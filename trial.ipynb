{
 "cells": [
  {
   "cell_type": "code",
   "execution_count": 1,
   "metadata": {},
   "outputs": [],
   "source": [
    "\n",
    "import cv2 as cv\n",
    "import numpy as np\n",
    "from keras.models import model_from_json\n",
    "import tensorflow as tf\n",
    "import pyautogui as pgi"
   ]
  },
  {
   "cell_type": "code",
   "execution_count": 2,
   "metadata": {},
   "outputs": [],
   "source": [
    "cam=cv.VideoCapture(0)\n",
    "minValue=70\n",
    "interrupt=-1\n",
    "class_names=['Forward', 'Next', 'Pause', 'Play', 'Previous', 'Reverse', 'Volume Down', 'Volume Up']\n",
    "if not cam.isOpened():\n",
    "    print(\"Error!Camera is not opened.\")\n",
    "    exit()"
   ]
  },
  {
   "cell_type": "code",
   "execution_count": 3,
   "metadata": {},
   "outputs": [],
   "source": [
    "json_file = open(\"model-bw.json\", \"r\")\n",
    "model_json = json_file.read()\n",
    "json_file.close()\n",
    "loaded_model = model_from_json(model_json)\n",
    "loaded_model.load_weights(\"model-bw.h5\")\n"
   ]
  },
  {
   "cell_type": "code",
   "execution_count": 4,
   "metadata": {},
   "outputs": [],
   "source": [
    "s=2\n",
    "x_prev=\"Play\"\n",
    "c=0\n",
    "while True:\n",
    "    ret,frame = cam.read()\n",
    "    frame = cv.flip(frame, 1)\n",
    "    x1 = int(0.5*frame.shape[1])\n",
    "    y1 = 10\n",
    "    x2 = frame.shape[1]-10\n",
    "    y2 = int(0.5*frame.shape[1])\n",
    "    cv.rectangle(frame, (220-1, 9), (720+1, 519), (255,0,0) ,1)\n",
    "    roi = frame[10:510, 220:720]\n",
    "    \n",
    "    gray = cv.cvtColor(roi, cv.COLOR_BGR2GRAY)\n",
    "    blur = cv.GaussianBlur(gray,(5,5),2)\n",
    "    th3 = cv.adaptiveThreshold(blur,255,cv.ADAPTIVE_THRESH_GAUSSIAN_C,cv.THRESH_BINARY_INV,11,2)\n",
    "    ret, test_image = cv.threshold(th3, minValue, 255, cv.THRESH_BINARY_INV+cv.THRESH_OTSU)\n",
    "    test_image = cv.resize(test_image, (128,128))\n",
    "    \n",
    "    img_array = tf.keras.utils.img_to_array(test_image)\n",
    "    img_array = tf.expand_dims(img_array, 0) # Create a batch\n",
    "    predictions = loaded_model.predict(img_array)\n",
    "    score = tf.nn.softmax(predictions[0])\n",
    "    x=class_names[np.argmax(score)]\n",
    "    if(x==x_prev):\n",
    "        c=c+1\n",
    "    if(c>=20):\n",
    "        cv.putText(frame,x,(10,500), cv.FONT_HERSHEY_PLAIN, 1.25, (55,0,255), 2)\n",
    "        if(x==\"Play\" and s==2):\n",
    "            pgi.press('space')\n",
    "            s=1\n",
    "        elif(x==\"Pause\" and s==1):\n",
    "            pgi.press('space')\n",
    "            s=2\n",
    "        elif(x==\"Volume Up\"):\n",
    "            pgi.press('up')\n",
    "        elif(x==\"Volume Down\"):\n",
    "            pgi.press('down')\n",
    "        elif(x==\"Forward\"):\n",
    "            pgi.press(\"right\")\n",
    "        elif(x==\"Reverse\"):\n",
    "            pgi.press('left')\n",
    "        elif(x==\"Next\"):\n",
    "            pgi.hotkey('command','right')\n",
    "        elif(x==\"Previous\"):\n",
    "            pgi.hotkey('command','left')\n",
    "        c=0       \n",
    "    x_prev=x\n",
    "        \n",
    "        \n",
    "            \n",
    "    cv.imshow(\"Frame\", frame)\n",
    "    cv.imshow(\"roi\", test_image)\n",
    "    interrupt = cv.waitKey(10)\n",
    "    if interrupt & 0xFF == 27: # esc key\n",
    "        break\n",
    "    \n",
    "cam.release()\n",
    "cv.destroyAllWindows()"
   ]
  },
  {
   "cell_type": "code",
   "execution_count": null,
   "metadata": {},
   "outputs": [],
   "source": []
  },
  {
   "cell_type": "code",
   "execution_count": null,
   "metadata": {},
   "outputs": [],
   "source": []
  },
  {
   "cell_type": "code",
   "execution_count": null,
   "metadata": {},
   "outputs": [],
   "source": []
  },
  {
   "cell_type": "code",
   "execution_count": null,
   "metadata": {},
   "outputs": [],
   "source": []
  },
  {
   "cell_type": "code",
   "execution_count": null,
   "metadata": {},
   "outputs": [],
   "source": []
  }
 ],
 "metadata": {
  "kernelspec": {
   "display_name": "Python 3",
   "language": "python",
   "name": "python3"
  },
  "language_info": {
   "codemirror_mode": {
    "name": "ipython",
    "version": 3
   },
   "file_extension": ".py",
   "mimetype": "text/x-python",
   "name": "python",
   "nbconvert_exporter": "python",
   "pygments_lexer": "ipython3",
   "version": "3.8.5"
  }
 },
 "nbformat": 4,
 "nbformat_minor": 4
}
